{
 "cells": [
  {
   "cell_type": "code",
   "execution_count": 18,
   "metadata": {},
   "outputs": [],
   "source": [
    "import itertools\n",
    "def card(a,b,c,d):\n",
    "    list1=[a,b,c,d]\n",
    "    m=itertools.permutations(list1,4)  \n",
    "    p=[]\n",
    "    for t in m:\n",
    "        p.append(list(t))\n",
    "    for w in p:\n",
    "        if w[0]+w[1]+w[2]+w[3]==24:    ##+\n",
    "            return \"ok\",\"{}+{}+{}+{}\".format(w[0],w[1],w[2],w[3])\n",
    "        elif w[0]+w[1]+w[2]-w[3]==24:   ##+-\n",
    "            return \"ok\",\"{}+{}+{}-{}\".format(w[0],w[1],w[2],w[3])\n",
    "        elif w[0]+w[1]-w[2]-w[3]==24:\n",
    "            return \"ok\",\"{}+{}-{}-{}\".format(w[0],w[1],w[2],w[3])\n",
    "        elif (w[0]+w[1]+w[2])*w[3]==24:##+ *\n",
    "            return \"ok\",\"({}+{}+{})*{}\".format(w[0],w[1],w[2],w[3])\n",
    "        elif w[0]+(w[1]+w[2])*w[3]==24:##+ *\n",
    "            return \"ok\",\"{}+({}+{})*{}\".format(w[0],w[1],w[2],w[3])\n",
    "        elif w[0]+w[1]+w[2]*w[3]==24:##+ *\n",
    "            return \"ok\",\"{}+{}+{}*{}\".format(w[0],w[1],w[2],w[3])\n",
    "        elif (w[0]+w[1])*w[2]*w[3]==24:  ##**+\n",
    "            return \"ok\",\"({}+{})*{}*{}\".format(w[0],w[1],w[2],w[3])\n",
    "        elif (w[0]+w[1]*w[2])*w[3]==24:  ##**+\n",
    "            return \"ok\",\"({}+{}*{})*{}\".format(w[0],w[1],w[2],w[3])\n",
    "        elif w[0]+w[1]*w[2]*w[3]==24:  ##**+\n",
    "            return \"ok\",\"{}+{}*{}*{}\".format(w[0],w[1],w[2],w[3])\n",
    "        elif w[0]*w[1]*w[2]*w[3]==24:\n",
    "            return \"ok\",\"{}*{}*{}*{}\".format(w[0],w[1],w[2],w[3])\n",
    "        elif w[0]*w[1]*w[2]/w[3]==24:  ##*/\n",
    "            return \"ok\",\"{}*{}*{}/{}\".format(w[0],w[1],w[2],w[3])\n",
    "        elif w[0]*w[1]/w[2]/w[3]==24:\n",
    "            return \"ok\",\"{}*{}/{}/{}\".format(w[0],w[1],w[2],w[3])\n",
    "        elif w[0]+w[1]+w[2]/w[3]==24: ##+/\n",
    "            return \"ok\",\"{}+{}+{}/{}\".format(w[0],w[1],w[2],w[3])\n",
    "        elif w[0]+w[1]/w[2]/w[3]==24: \n",
    "            return \"ok\",\"{}+{}/{}/{}\".format(w[0],w[1],w[2],w[3])\n",
    "        elif w[0]+w[1]-w[2]*w[3]==24:  ##+-*\n",
    "            return \"ok\",\"{}+{}-{}*{}\".format(w[0],w[1],w[2],w[3])\n",
    "        elif w[0]+(w[1]-w[2])*w[3]==24:  ##+-*\n",
    "            return \"ok\",\"{}+({}-{})*{}\".format(w[0],w[1],w[2],w[3])\n",
    "        elif (w[0]+w[1]-w[2])*w[3]==24:  ##+-*\n",
    "            return \"ok\",\"({}+{}-{})*{}\".format(w[0],w[1],w[2],w[3])\n",
    "        elif w[0]+w[1]-w[2]/w[3]==24:  ##+-/\n",
    "            return \"ok\",\"{}+{}-{}/{}\".format(w[0],w[1],w[2],w[3])\n",
    "        elif (w[0]+w[1])*w[2]/w[3]==24: ##+*/\n",
    "            return \"ok\",\"({}+{})*{}/{}\".format(w[0],w[1],w[2],w[3])\n",
    "        elif (w[0]+w[1]*w[2])/w[3]==24: ##+*/\n",
    "            \n",
    "            return \"ok\",\"({}+{}*{})/{}\".format(w[0],w[1],w[2],w[3])\n",
    "        elif (w[0]+w[1]/w[2])*w[3]==24: ##+*/\n",
    "            return \"ok\",\"({}+{}/{})*{}\".format(w[0],w[1],w[2],w[3])\n",
    "        elif (w[0]-w[1])*w[2]/w[3]==24: ##-*/\n",
    "            return \"ok\",\"({}-{})*{}/{}\".format(w[0],w[1],w[2],w[3])\n",
    "        elif (w[0]-w[1]*w[2])/w[3]==24:\n",
    "            return \"ok\",\"({}-{}*{})/{}\".format(w[0],w[1],w[2],w[3])\n",
    "        elif  w[0]-w[1]*w[2]/w[3]==24: ##-*/\n",
    "            return \"ok\",\"{}-{}*{}/{}\".format(w[0],w[1],w[2],w[3])\n",
    "    return \"No\",\"error\"\n"
   ]
  },
  {
   "cell_type": "code",
   "execution_count": 24,
   "metadata": {},
   "outputs": [
    {
     "name": "stdout",
     "output_type": "stream",
     "text": [
      "ok 12+(4-1)*4\n"
     ]
    }
   ],
   "source": [
    "a,b=card(4,12,4,1)\n",
    "print(a,b)\n"
   ]
  },
  {
   "cell_type": "code",
   "execution_count": 136,
   "metadata": {},
   "outputs": [
    {
     "data": {
      "text/plain": [
       "0.3230769230769231"
      ]
     },
     "execution_count": 136,
     "metadata": {},
     "output_type": "execute_result"
    }
   ],
   "source": [
    "(0.3*0.35)/((0.3*0.35)+0.4*0.3+0.25*0.4)"
   ]
  },
  {
   "cell_type": "code",
   "execution_count": null,
   "metadata": {},
   "outputs": [],
   "source": []
  }
 ],
 "metadata": {
  "kernelspec": {
   "display_name": "Python 3",
   "language": "python",
   "name": "python3"
  },
  "language_info": {
   "codemirror_mode": {
    "name": "ipython",
    "version": 3
   },
   "file_extension": ".py",
   "mimetype": "text/x-python",
   "name": "python",
   "nbconvert_exporter": "python",
   "pygments_lexer": "ipython3",
   "version": "3.6.4"
  }
 },
 "nbformat": 4,
 "nbformat_minor": 2
}
